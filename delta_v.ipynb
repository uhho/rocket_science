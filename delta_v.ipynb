{
 "cells": [
  {
   "cell_type": "markdown",
   "metadata": {},
   "source": [
    "# Calculating $\\Delta v$"
   ]
  },
  {
   "cell_type": "markdown",
   "metadata": {},
   "source": [
    "## Theory"
   ]
  },
  {
   "cell_type": "markdown",
   "metadata": {},
   "source": [
    "### Tsiolkovsky rocket equation\n",
    "\n",
    "$\n",
    "\\large \\Delta v=v_e*\\ln\\frac{m_0}{m_f}\n",
    "$\n",
    "\n",
    "$\\Delta v$ - the maximum change of velocity of the vehicle\n",
    "\n",
    "$m_0$ - the initial total mass, including propellant, a.k.a. \"wet mass\"\n",
    "\n",
    "$m_f$ - the final total mass without propellant, a.k.a. \"dry mass\"\n",
    "\n",
    "$v_{\\text{e}}$ - the effective exhaust velocity\n",
    "\n",
    "$\\ln$ - the natural logarithm function"
   ]
  },
  {
   "cell_type": "markdown",
   "metadata": {},
   "source": [
    "### Calculating $\\Delta v$ given $I_{sp}$, wet mass ($m_0$) and dry mass ($m_f$)\n",
    "\n",
    "**Using the specific impulse instead of the effective exhaust velocity**\n",
    "\n",
    "$\n",
    "\\large v_e=I_{sp}*g_0\n",
    "$\n",
    "\n",
    "$\n",
    "\\large {\\Delta}v=I_{sp}*g_0*ln\\frac{m_0}{m_f}\n",
    "$\n",
    "\n",
    "$I_{sp}$ - is the specific impulse in $s$\n",
    "\n",
    "$g_{0}$ - is the surface gravity (exactly $9.80665 \\frac{m}{s^2}$)"
   ]
  },
  {
   "cell_type": "code",
   "execution_count": 1,
   "metadata": {},
   "outputs": [],
   "source": [
    "import numpy as np"
   ]
  },
  {
   "cell_type": "code",
   "execution_count": 2,
   "metadata": {},
   "outputs": [],
   "source": [
    "G_0 = 9.80665\n",
    "\n",
    "def delta_v(isp, wet_mass, dry_mass):\n",
    "    return isp * G_0 * np.log(wet_mass / dry_mass)"
   ]
  },
  {
   "cell_type": "markdown",
   "metadata": {},
   "source": [
    "### Calculating fuel mass given dry mass ($m_f$), $\\Delta v$ and $I_{sp}$ \n",
    "\n",
    "$\n",
    "\\large {m_0} = m_f * \\exp(\\frac{\\Delta v}{I_{sp} * g_0})\n",
    "$\n",
    "\n",
    "$\n",
    "\\large fuel\\_mass = m_0 - m_f\n",
    "$\n"
   ]
  },
  {
   "cell_type": "code",
   "execution_count": 3,
   "metadata": {},
   "outputs": [],
   "source": [
    "def fuel_mass(dry_mass, dv, isp):\n",
    "    wet_mass = dry_mass * np.exp(dv / (G_0 * isp))\n",
    "    return wet_mass - dry_mass"
   ]
  },
  {
   "cell_type": "markdown",
   "metadata": {},
   "source": [
    "### Calculating $I_{sp}$ for multiple engines\n",
    "\n",
    "Weighted harmonic mean of the engines' specific impulses, weighted by each engine's thrust. \n",
    "\n",
    "$\n",
    "\\large \n",
    "I_{sp}=\\frac{\\sum_{i=1}^{n}F_{T_{i}}}{\\sum_{i=1}^{n}\\dot {m}_{i}}=\\frac{\\sum_{i=1}^{n}F_{T_{i}}}{\\sum_{i=1}^{n}{\\frac{F_{T_{i}}}{I_{s{p_{i}}}}}}\n",
    "$\n",
    "\n",
    "\n",
    "$F_{T_i}$ - the thrust of each engine in $N$ (newton)\n",
    "\n",
    "$I_{s{p_i}}$ - the specific impulse of each engine in $s$\n",
    "\n",
    "$\\dot {m}_i$ - the fuel consumption in $\\frac{kg}{s}$\n"
   ]
  },
  {
   "cell_type": "code",
   "execution_count": 4,
   "metadata": {},
   "outputs": [],
   "source": [
    "def isp_engines(thrusts, isps):\n",
    "    return np.sum(thrusts) / np.sum(np.divide(thrusts, isps))"
   ]
  },
  {
   "cell_type": "markdown",
   "metadata": {},
   "source": [
    "### Fuel consumption & volume"
   ]
  },
  {
   "cell_type": "markdown",
   "metadata": {},
   "source": [
    "\n",
    "$\n",
    "\\large \\dot m = \\frac {\\sum_{i=1}^{n} F_{T_{i}}}{I_{sp} * g_0}\n",
    "$\n",
    "\n",
    "$\n",
    "\\dot V = \\frac {\\dot m}{\\rho}\n",
    "$\n",
    "\n",
    "$\\dot V$ - the fuel volume in $\\frac {m^3}{s}$\n",
    "\n",
    "$\\rho$ - the fuel density in $\\frac {kg}{m^3}$ "
   ]
  },
  {
   "cell_type": "code",
   "execution_count": 5,
   "metadata": {},
   "outputs": [],
   "source": [
    "def fuel_consumption(thrust, isp):\n",
    "    \"\"\"Calculate fuel consumption in kg/s given total thrust and Isp or all engines\"\"\"\n",
    "    return thrust / (isp * G_0)\n",
    "\n",
    "def mass_to_volume(m_dot, density):\n",
    "    \"\"\"Converts mass in kg/s to volume in l/s\"\"\"\n",
    "    return (m_dot / density) * 1000\n",
    "\n",
    "def volume_to_mass(vol, density):\n",
    "    \"\"\"Converts volume in l/s to mass in kg/s\"\"\"\n",
    "    return (vol / 1000) * density"
   ]
  },
  {
   "cell_type": "markdown",
   "metadata": {},
   "source": [
    "---"
   ]
  },
  {
   "cell_type": "markdown",
   "metadata": {},
   "source": [
    "## Example 1: Amount of fuel necessary to reach LEO"
   ]
  },
  {
   "cell_type": "code",
   "execution_count": 6,
   "metadata": {},
   "outputs": [],
   "source": [
    "import matplotlib\n",
    "import matplotlib.pyplot as plt\n",
    "plt.style.use('ggplot')"
   ]
  },
  {
   "cell_type": "code",
   "execution_count": 7,
   "metadata": {},
   "outputs": [],
   "source": [
    "# delta_v necessary to reach LEO + approximate atmospheric & gravity drag\n",
    "target_delta_v = 9400\n",
    "\n",
    "# various Isp values\n",
    "isps = np.arange(200, 400, 50)\n",
    "\n",
    "# various dry mass\n",
    "dry_mass = np.arange(0, 10, 1)\n",
    "\n",
    "# calculate fuel mass for above parameters\n",
    "fm = [fuel_mass(dry_mass, target_delta_v, isp) for isp in isps]"
   ]
  },
  {
   "cell_type": "code",
   "execution_count": 8,
   "metadata": {},
   "outputs": [
    {
     "data": {
      "image/png": "[encoded data removed]",
      "text/plain": [
       "<matplotlib.figure.Figure at 0x7faf79eaa390>"
      ]
     },
     "metadata": {},
     "output_type": "display_data"
    }
   ],
   "source": [
    "fig, ax = plt.subplots(1, figsize=(8,3))\n",
    "\n",
    "for i, isp in enumerate(isps):\n",
    "    ax.plot(dry_mass, fm[i], label='$I_{{sp}}={}$'.format(isp))\n",
    "\n",
    "ax.set_ylim(0, 1000)\n",
    "ax.set_title('$\\Delta v$ = {}'.format(target_delta_v))\n",
    "ax.set_xlabel('Dry mass');\n",
    "ax.set_ylabel('Fuel mass');\n",
    "ax.legend(loc='upper right');"
   ]
  },
  {
   "cell_type": "markdown",
   "metadata": {},
   "source": [
    "## Example 2: Launching Falcon 9 v1.2 (Full Thrust) into orbit\n",
    "\n",
    "<img src=\"https://upload.wikimedia.org/wikipedia/commons/2/28/Falcon_9_logo_by_SpaceX.png\" width=\"100\">\n",
    "\n",
    "| Stage | Engines           | $I_{sp}$ | Thrust | Dry mass  | Fuel       | Fuel volume | Burn time |\n",
    "| ----- | ----------------- | -------- | ------ | --------- | ---------- | ----------- | --------- |\n",
    "| 1     | 9 x Merlin 1D+    | 282 s    | 845 kN | 25,600 kg | LOx + RP-1 | 398,887 L   | 162 s     |\n",
    "| 2     | 1 x Merlin 1D+Vac | 348 s    | 934 kN | 4,000 kg  | LOx + RP-1 | 108,185 L   | 346 s     |\n",
    "\n",
    "\n",
    "Mixture mass ratio = $2.36$\n",
    "\n",
    "LOx density: $1.141 \\frac{g}{cm^3}$\n",
    "\n",
    "RP-1 density: $0.81 \\sim 1.02 \\frac{g}{cm^3}$"
   ]
  },
  {
   "cell_type": "code",
   "execution_count": 9,
   "metadata": {},
   "outputs": [],
   "source": [
    "mixture_mass_ratio = 2.36\n",
    "# weighted average fuel density, assuming density of RP-1 is at the higher end (1.02g/cm^3)\n",
    "density = ((mixture_mass_ratio * 1141) + (1 * 1020)) / (mixture_mass_ratio + 1)\n",
    "\n",
    "isp_1st_stage = 282\n",
    "thrust_1st_stage = 845000\n",
    "burn_time_1st_stage = 162\n",
    "dry_mass_base_1st_stage = 25600\n",
    "fuel_volume_1st_stage = 398887\n",
    "fuel_mass_1st_stage = volume_to_mass(fuel_volume_1st_stage, density)\n",
    "\n",
    "isp_2nd_stage = 346\n",
    "thrust_2nd_stage = 934000\n",
    "burn_time_2nd_stage = 397\n",
    "dry_mass_base_2nd_stage = 4000\n",
    "fuel_volume_2nd_stage = 108185\n",
    "fuel_mass_2nd_stage = volume_to_mass(fuel_volume_2nd_stage, density)"
   ]
  },
  {
   "cell_type": "code",
   "execution_count": 10,
   "metadata": {},
   "outputs": [
    {
     "data": {
      "text/plain": [
       "282.0"
      ]
     },
     "execution_count": 10,
     "metadata": {},
     "output_type": "execute_result"
    }
   ],
   "source": [
    "# parameters for all 1st stage engines are the same so calculating total Isp is trivial,\n",
    "# but technically speaking it should be calculated in the following way:\n",
    "thrusts = [845000, 845000, 845000, 845000, 845000, 845000, 845000, 845000, 845000]\n",
    "isps = [282, 282, 282, 282, 282, 282, 282, 282, 282]\n",
    "isp_1st_stage = isp_engines(thrusts, isps)\n",
    "isp_1st_stage"
   ]
  },
  {
   "cell_type": "markdown",
   "metadata": {},
   "source": [
    "#### Fuel consumption"
   ]
  },
  {
   "cell_type": "code",
   "execution_count": 11,
   "metadata": {},
   "outputs": [
    {
     "data": {
      "text/plain": [
       "2488.695917581072"
      ]
     },
     "execution_count": 11,
     "metadata": {},
     "output_type": "execute_result"
    }
   ],
   "source": [
    "# fuel consumption for 9 Merlin 1D+ engines in kg/s\n",
    "m_dot_1st_stage = fuel_consumption(9 * thrust_1st_stage, isp_1st_stage)\n",
    "\n",
    "# fuel volume in l/s\n",
    "V_dot_1st_stage = mass_to_volume(m_dot_1st_stage, density)\n",
    "V_dot_1st_stage"
   ]
  },
  {
   "cell_type": "code",
   "execution_count": 12,
   "metadata": {},
   "outputs": [
    {
     "data": {
      "text/plain": [
       "403168.7386481337"
      ]
     },
     "execution_count": 12,
     "metadata": {},
     "output_type": "execute_result"
    }
   ],
   "source": [
    "# total fuel consumption for given burn time and volume consumption per second\n",
    "calculated_fuel_volume_1st_stage = burn_time_1st_stage * V_dot_1st_stage\n",
    "calculated_fuel_volume_1st_stage"
   ]
  },
  {
   "cell_type": "code",
   "execution_count": 13,
   "metadata": {},
   "outputs": [
    {
     "data": {
      "text/plain": [
       "249.11076920790754"
      ]
     },
     "execution_count": 13,
     "metadata": {},
     "output_type": "execute_result"
    }
   ],
   "source": [
    "# fuel consumption for 1 Merlin 1D+Vecuum engine in kg/s\n",
    "m_dot_2nd_stage = fuel_consumption(thrust_2nd_stage, isp_2nd_stage)\n",
    "\n",
    "# fuel volume in l/s\n",
    "V_dot_2nd_stage = mass_to_volume(m_dot_2nd_stage, density)\n",
    "V_dot_2nd_stage"
   ]
  },
  {
   "cell_type": "code",
   "execution_count": 14,
   "metadata": {},
   "outputs": [
    {
     "data": {
      "text/plain": [
       "98896.97537553929"
      ]
     },
     "execution_count": 14,
     "metadata": {},
     "output_type": "execute_result"
    }
   ],
   "source": [
    "# total fuel consumption for given burn time and volume consumption per second\n",
    "calculated_fuel_volume_2nd_stage = burn_time_2nd_stage * V_dot_2nd_stage\n",
    "calculated_fuel_volume_2nd_stage"
   ]
  },
  {
   "cell_type": "markdown",
   "metadata": {},
   "source": [
    "#### Burn time"
   ]
  },
  {
   "cell_type": "code",
   "execution_count": 15,
   "metadata": {},
   "outputs": [
    {
     "data": {
      "text/plain": [
       "160.2795251851036"
      ]
     },
     "execution_count": 15,
     "metadata": {},
     "output_type": "execute_result"
    }
   ],
   "source": [
    "# maximum burn time on full thrust\n",
    "calculated_burn_time_1st_stage = fuel_volume_1st_stage / V_dot_1st_stage\n",
    "calculated_burn_time_1st_stage"
   ]
  },
  {
   "cell_type": "code",
   "execution_count": 16,
   "metadata": {},
   "outputs": [
    {
     "data": {
      "text/plain": [
       "434.2847173728926"
      ]
     },
     "execution_count": 16,
     "metadata": {},
     "output_type": "execute_result"
    }
   ],
   "source": [
    "# maximum burn time on full thrust\n",
    "calculated_burn_time_2nd_stage = fuel_volume_2nd_stage / V_dot_2nd_stage\n",
    "calculated_burn_time_2nd_stage"
   ]
  },
  {
   "cell_type": "markdown",
   "metadata": {},
   "source": [
    "#### Minimum fuel mass to reach orbit, without payload"
   ]
  },
  {
   "cell_type": "code",
   "execution_count": 17,
   "metadata": {},
   "outputs": [
    {
     "data": {
      "text/plain": [
       "740755.6789047227"
      ]
     },
     "execution_count": 17,
     "metadata": {},
     "output_type": "execute_result"
    }
   ],
   "source": [
    "min_fuel_mass_leo_1st_stage = fuel_mass(dry_mass_base_1st_stage, 9400, isp_1st_stage)\n",
    "min_fuel_mass_leo_1st_stage"
   ]
  },
  {
   "cell_type": "code",
   "execution_count": 18,
   "metadata": {},
   "outputs": [
    {
     "data": {
      "text/plain": [
       "59855.43146870513"
      ]
     },
     "execution_count": 18,
     "metadata": {},
     "output_type": "execute_result"
    }
   ],
   "source": [
    "min_fuel_mass_leo_2nd_stage = fuel_mass(dry_mass_base_2nd_stage, 9400, isp_2nd_stage)\n",
    "min_fuel_mass_leo_2nd_stage"
   ]
  },
  {
   "cell_type": "markdown",
   "metadata": {},
   "source": [
    "#### Maximum $\\Delta v$, without payload"
   ]
  },
  {
   "cell_type": "code",
   "execution_count": 19,
   "metadata": {},
   "outputs": [
    {
     "data": {
      "text/plain": [
       "8026.452088059146"
      ]
     },
     "execution_count": 19,
     "metadata": {},
     "output_type": "execute_result"
    }
   ],
   "source": [
    "delta_v_1st_stage = delta_v(isp_1st_stage, dry_mass_base_1st_stage + fuel_mass_1st_stage, dry_mass_base_1st_stage)\n",
    "delta_v_1st_stage"
   ]
  },
  {
   "cell_type": "code",
   "execution_count": 20,
   "metadata": {},
   "outputs": [
    {
     "data": {
      "text/plain": [
       "11639.340519804397"
      ]
     },
     "execution_count": 20,
     "metadata": {},
     "output_type": "execute_result"
    }
   ],
   "source": [
    "delta_v_2nd_stage = delta_v(isp_2nd_stage, dry_mass_base_2nd_stage + fuel_mass_2nd_stage, dry_mass_base_2nd_stage)\n",
    "delta_v_2nd_stage"
   ]
  },
  {
   "cell_type": "markdown",
   "metadata": {},
   "source": [
    "#### $\\Delta v$ for different payload mass"
   ]
  },
  {
   "cell_type": "code",
   "execution_count": 21,
   "metadata": {},
   "outputs": [],
   "source": [
    "minimum_two_stages_mass = dry_mass_base_1st_stage + dry_mass_base_2nd_stage + fuel_mass_2nd_stage\n",
    "maximum_payload_mass = 50000\n",
    "\n",
    "# maximum delta v for 1st stage\n",
    "dry_mass_1st_stage = np.arange(dry_mass_base_1st_stage, minimum_two_stages_mass + maximum_payload_mass, 1000)\n",
    "wet_mass_1st_stage = dry_mass_1st_stage + fuel_mass_1st_stage\n",
    "dv_1st_stage = delta_v(isp_1st_stage, wet_mass_1st_stage, dry_mass_1st_stage)\n",
    "\n",
    "# maximum delta v for 1st stage with 2nd stage on top\n",
    "dv_1st_stage_with_2nd_stage = delta_v(isp_1st_stage, minimum_two_stages_mass + fuel_mass_1st_stage, minimum_two_stages_mass)\n",
    "\n",
    "# maximum delta v for 2nd stage (after separation)\n",
    "dry_mass_2nd_stage = np.arange(dry_mass_base_2nd_stage, maximum_payload_mass, 1000)\n",
    "wet_mass_2nd_stage = dry_mass_2nd_stage + fuel_mass_2nd_stage\n",
    "dv_2nd_stage = delta_v(isp_2nd_stage, wet_mass_2nd_stage, dry_mass_2nd_stage)"
   ]
  },
  {
   "cell_type": "code",
   "execution_count": 22,
   "metadata": {},
   "outputs": [
    {
     "data": {
      "image/png": "[encoded data removed]",
      "text/plain": [
       "<matplotlib.figure.Figure at 0x7faf718b93c8>"
      ]
     },
     "metadata": {},
     "output_type": "display_data"
    }
   ],
   "source": [
    "delta_v_LEO = 9400 # Low Earth Orbit\n",
    "delta_v_GTO = 11900 # Geostationary Transfer Orbit\n",
    "delta_v_Mars = 14600 # Mars capture orbit\n",
    "\n",
    "def draw_plot(ax, x, y, color, label):\n",
    "    formatter = matplotlib.ticker.FuncFormatter(lambda x, p: '{:,}'.format(int(x)))\n",
    "    ax.plot(x, y, color, label=label)\n",
    "    ax.axhline(delta_v_LEO, linestyle='--', color='gray', label='LEO')\n",
    "    ax.set_title(label)\n",
    "    ax.get_xaxis().set_major_formatter(formatter)\n",
    "    ax.get_yaxis().set_major_formatter(formatter)\n",
    "    ax.set_xlabel('Payload mass (kg)');\n",
    "    ax.set_ylabel('$\\Delta v (s)$');\n",
    "    ax.legend(loc='upper right');\n",
    "\n",
    "fig, ax = plt.subplots(1, 3, figsize=(20,5))\n",
    "\n",
    "draw_plot(ax[0], dry_mass_1st_stage - dry_mass_base_1st_stage, dv_1st_stage, 'C0', '1st stage')\n",
    "draw_plot(ax[1], dry_mass_2nd_stage - dry_mass_base_2nd_stage, dv_2nd_stage, 'C1', '2nd stage')\n",
    "draw_plot(ax[2], dry_mass_2nd_stage - dry_mass_base_2nd_stage, dv_1st_stage_with_2nd_stage + dv_2nd_stage, 'C2', 'both stages')\n",
    "\n",
    "ax[2].axhline(delta_v_LEO, linestyle='--', color='C3', label='LEO')\n",
    "ax[2].axhline(delta_v_GTO, linestyle='--', color='C4', label='GTO')\n",
    "ax[2].axhline(delta_v_Mars, linestyle='--', color='C5', label='Mars')\n",
    "\n",
    "plt.show();"
   ]
  },
  {
   "cell_type": "markdown",
   "metadata": {},
   "source": [
    "**Observations**\n",
    "\n",
    "- Flow rate\n",
    "    - 1st stage: **2,488 L/s**\n",
    "    - 2nd stage: **249 L/s**\n",
    "- Maximum $\\Delta v$ for single stage\n",
    "    - 1st stage: **8,026s** (not possible to reach orbit)\n",
    "    - 2nd stage: **11,639s** (possible to reach orbit assuming vehicle is moving in a vacuum)\n",
    "- Maximum payload mass to LEO, GTO and Mars capture orbit are close to parameters published by SpaceX\n",
    "    - LEO: ~ 22,000kg\n",
    "    - GEO: ~ 8,000 kg\n",
    "    - Mars: ~ 4,000 kg\n",
    "- There are slight differences between between actual and calculated values, mainly because of other effects not considered in calculations:\n",
    "    - burn time is averaged value for all engines (during launch and landing)\n",
    "    - the fact that the 1st stage engines throttle down towards the end of the burn\n",
    "    - fuel density might be different"
   ]
  },
  {
   "cell_type": "markdown",
   "metadata": {},
   "source": [
    "## Sources\n",
    "\n",
    "- https://en.wikipedia.org/wiki/Tsiolkovsky_rocket_equation\n",
    "- https://en.wikipedia.org/wiki/Low_Earth_orbit\n",
    "- https://en.wikipedia.org/wiki/Delta-v_budget\n",
    "- https://wiki.kerbalspaceprogram.com/wiki/Specific_impulse#Multiple_engines\n",
    "- https://en.wikipedia.org/wiki/Falcon_9\n",
    "- https://en.wikipedia.org/wiki/RP-1\n",
    "- https://en.wikipedia.org/wiki/Liquid_oxygen\n",
    "- https://www.reddit.com/r/spacex/comments/3lsm0q/f9ft_vs_f9v11_fuel_mass_flow_rate_isp/\n",
    "- http://www.spaceflightinsider.com/hangar/falcon/\n",
    "- http://www.b14643.de/Spacerockets_2/United_States_1/Falcon-9/Merlin/index.htm"
   ]
  }
 ],
 "metadata": {
  "kernelspec": {
   "display_name": "Python 3",
   "language": "python",
   "name": "python3"
  },
  "language_info": {
   "codemirror_mode": {
    "name": "ipython",
    "version": 3
   },
   "file_extension": ".py",
   "mimetype": "text/x-python",
   "name": "python",
   "nbconvert_exporter": "python",
   "pygments_lexer": "ipython3",
   "version": "3.6.4"
  }
 },
 "nbformat": 4,
 "nbformat_minor": 2
}
