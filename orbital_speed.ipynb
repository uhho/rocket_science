{
 "cells": [
  {
   "cell_type": "markdown",
   "metadata": {},
   "source": [
    "# Orbital speed\n",
    "\n",
    "## Mean orbital speed\n",
    "\n",
    "$\\large v \\approx \\sqrt{\\frac{\\mu}{r}}$\n",
    "\n",
    "Where:\n",
    "\n",
    "$\\mu = GM_{earth}$ - Standard gravitational parameter\n",
    "\n",
    "$G$ - Gravitational constant ($G \\approx 6.674×10^{−11} N·kg^{–2}·m^{2}$)\n",
    "\n",
    "$M_{earth}$ - Earth mass in kilograms\n",
    "\n",
    "$r$ - radius satellite is currently at\n",
    "\n",
    "Or, using gravitational accelleration\n",
    "\n",
    "$\\large v \\approx \\sqrt{2g_{0}r}$\n",
    "\n",
    "Where:\n",
    "\n",
    "$g_{0}$ - is the surface gravity ($g_{0} = 9.80665 \\frac{m}{s^2}$)\n",
    "\n",
    "## Precise orbital speed\n",
    "\n",
    "Precise speed of a body at any given point in its trajectory [$m/s$]\n",
    "\n",
    "$\\large v = \\sqrt{ \\mu (\\frac{2}{r} - \\frac{1}{a}) }$\n",
    "\n",
    "Where:\n",
    "\n",
    "$a$ - semi-major axis\n",
    "\n",
    "## Escape velocity\n",
    "\n",
    "$\\large v_e = \\sqrt{\\frac{2GM}{r}}$"
   ]
  },
  {
   "cell_type": "code",
   "execution_count": 1,
   "metadata": {},
   "outputs": [],
   "source": [
    "import numpy as np\n",
    "\n",
    "G_CONST = 6.674 * 10**-11\n",
    "G_EARTH = 9.80665\n",
    "\n",
    "EARTH_RADIUS = 6.371 * 10**6\n",
    "EARTH_MASS = 5.97237 * 10**24\n",
    "\n",
    "MU_EARTH = G_CONST * EARTH_MASS"
   ]
  },
  {
   "cell_type": "code",
   "execution_count": 2,
   "metadata": {},
   "outputs": [],
   "source": [
    "def escape_velocity(r):\n",
    "    return np.sqrt((2 * MU_EARTH) / r)\n",
    "\n",
    "def mean_orbital_speed(r):\n",
    "    return np.sqrt(MU_EARTH / r)"
   ]
  },
  {
   "cell_type": "markdown",
   "metadata": {},
   "source": [
    "## Examples\n",
    "\n",
    "### Mean orbital speed and escape velocity at 100km orbit"
   ]
  },
  {
   "cell_type": "code",
   "execution_count": 3,
   "metadata": {},
   "outputs": [
    {
     "data": {
      "text/plain": [
       "7848.393219267663"
      ]
     },
     "execution_count": 3,
     "metadata": {},
     "output_type": "execute_result"
    }
   ],
   "source": [
    "r = 100*10**3\n",
    "mean_orbital_speed(EARTH_RADIUS + r)"
   ]
  },
  {
   "cell_type": "code",
   "execution_count": 4,
   "metadata": {},
   "outputs": [
    {
     "data": {
      "text/plain": [
       "11099.304133525366"
      ]
     },
     "execution_count": 4,
     "metadata": {},
     "output_type": "execute_result"
    }
   ],
   "source": [
    "escape_velocity(EARTH_RADIUS + r)"
   ]
  },
  {
   "cell_type": "markdown",
   "metadata": {},
   "source": [
    "**Observe**\n",
    "\n",
    "- Mean orbital speed at 100km above Earth surface is 7.8 m/s\n",
    "- Earth escape velocity is approximately 11 m/s"
   ]
  },
  {
   "cell_type": "markdown",
   "metadata": {},
   "source": [
    "## Sources\n",
    "\n",
    "- https://en.wikipedia.org/wiki/Escape_velocity\n",
    "- https://en.wikipedia.org/wiki/Orbital_speed\n",
    "- https://en.wikipedia.org/wiki/Gravitational_constant"
   ]
  }
 ],
 "metadata": {
  "kernelspec": {
   "display_name": "Python 3",
   "language": "python",
   "name": "python3"
  },
  "language_info": {
   "codemirror_mode": {
    "name": "ipython",
    "version": 3
   },
   "file_extension": ".py",
   "mimetype": "text/x-python",
   "name": "python",
   "nbconvert_exporter": "python",
   "pygments_lexer": "ipython3",
   "version": "3.6.4"
  }
 },
 "nbformat": 4,
 "nbformat_minor": 2
}
