{
 "cells": [
  {
   "cell_type": "markdown",
   "metadata": {},
   "source": [
    "# Thrust to weight ratio\n",
    "\n",
    "Defined as the maximum static thrust at sea-level divided by the maximum takeoff weight.\n",
    "If the ratio is less than 1 the craft will not lift off the ground\n",
    "\n",
    "$\\large {\\text{TWR}}={\\frac {F_{T}}{m g_{0}}}>1$\n",
    "\n",
    "\n",
    "$F_{T}$ - the thrust of the engines\n",
    "\n",
    "$m$ - the total mass of the craft\n",
    "\n",
    "$g_{0}$ - the local gravitational acceleration (on Earth exactly $9.80665 \\frac{m}{s^2}$)\n"
   ]
  },
  {
   "cell_type": "code",
   "execution_count": 1,
   "metadata": {},
   "outputs": [],
   "source": [
    "import numpy as np"
   ]
  },
  {
   "cell_type": "code",
   "execution_count": 2,
   "metadata": {},
   "outputs": [],
   "source": [
    "def thrust_to_weight(thrust, mass, g):\n",
    "    return (thrust) / (mass * g)"
   ]
  },
  {
   "cell_type": "markdown",
   "metadata": {},
   "source": [
    "---"
   ]
  },
  {
   "cell_type": "markdown",
   "metadata": {},
   "source": [
    "## Example - launching Falcon 9 from Earth and Mars surface"
   ]
  },
  {
   "cell_type": "code",
   "execution_count": 3,
   "metadata": {},
   "outputs": [],
   "source": [
    "# Earth gravitational accelleration\n",
    "G_0 = 9.80665\n",
    "# Mars gravitational accelleration\n",
    "M_0 = 3.72076"
   ]
  },
  {
   "cell_type": "code",
   "execution_count": 4,
   "metadata": {},
   "outputs": [],
   "source": [
    "def volume_to_mass(vol, density):\n",
    "    \"\"\"Converts volume in l/s to mass in kg/s\"\"\"\n",
    "    return (vol / 1000) * density"
   ]
  },
  {
   "cell_type": "code",
   "execution_count": 5,
   "metadata": {},
   "outputs": [],
   "source": [
    "mixture_mass_ratio = 2.36\n",
    "# weighted average fuel density, assuming density of RP-1 is at the higher end (1.02g/cm^3)\n",
    "density = ((mixture_mass_ratio * 1141) + (1 * 1020)) / (mixture_mass_ratio + 1)\n",
    "\n",
    "thrust_1st_stage = 845000\n",
    "dry_mass_base_1st_stage = 25600\n",
    "fuel_volume_1st_stage = 398887\n",
    "fuel_mass_1st_stage = volume_to_mass(fuel_volume_1st_stage, density)\n",
    "\n",
    "thrust_2nd_stage = 934000\n",
    "dry_mass_base_2nd_stage = 4000\n",
    "fuel_volume_2nd_stage = 108185\n",
    "fuel_mass_2nd_stage = volume_to_mass(fuel_volume_2nd_stage, density)"
   ]
  },
  {
   "cell_type": "code",
   "execution_count": 6,
   "metadata": {},
   "outputs": [],
   "source": [
    "total_mass_2nd_stage = dry_mass_base_2nd_stage + fuel_mass_2nd_stage\n",
    "total_mass_1st_stage = dry_mass_base_1st_stage + fuel_mass_1st_stage + total_mass_2nd_stage"
   ]
  },
  {
   "cell_type": "code",
   "execution_count": 7,
   "metadata": {},
   "outputs": [],
   "source": [
    "engines = np.arange(0, 10)\n",
    "stage_1 = thrust_to_weight(engines * thrust_1st_stage, total_mass_1st_stage, G_0)\n",
    "stage_1_M = thrust_to_weight(engines * thrust_1st_stage, total_mass_1st_stage, M_0)\n",
    "stage_2 = thrust_to_weight(engines * thrust_2nd_stage, total_mass_2nd_stage, G_0)\n",
    "stage_2_M = thrust_to_weight(engines * thrust_2nd_stage, total_mass_2nd_stage, M_0)"
   ]
  },
  {
   "cell_type": "code",
   "execution_count": 9,
   "metadata": {},
   "outputs": [
    {
     "data": {
      "image/png": "[encoded data removed]",
      "text/plain": [
       "<matplotlib.figure.Figure at 0x7f2f2f1ec240>"
      ]
     },
     "metadata": {},
     "output_type": "display_data"
    }
   ],
   "source": [
    "import matplotlib.pyplot as plt\n",
    "fig, ax = plt.subplots(1, 2, figsize=(10,4))\n",
    "ax[0].plot(engines, stage_1, 'C0', label='TWR on Earth')\n",
    "ax[0].plot(engines, stage_1_M, 'C3', label='TWR on Mars')\n",
    "ax[0].set_title('First stage')\n",
    "ax[0].axhline(1, color='k', linestyle='--')\n",
    "ax[0].legend()\n",
    "\n",
    "ax[1].plot(engines, stage_2, 'C0', label='TWR on Earth')\n",
    "ax[1].plot(engines, stage_2_M, 'C3', label='TWR on Mars')\n",
    "ax[1].set_title('Second stage')\n",
    "ax[1].axhline(1, color='k', linestyle='--')\n",
    "ax[1].legend()\n",
    "\n",
    "plt.show();"
   ]
  },
  {
   "cell_type": "markdown",
   "metadata": {},
   "source": [
    "**Observe**\n",
    "\n",
    "- First stage\n",
    "    - needs at least 7 engines to lift from Earth surface\n",
    "    - needs only 3 engines to lift from Mars surface\n",
    "- Second stage\n",
    "    - is not able to lift from Earth surface with 1 engine, it would need at least 2-3 engines (assuming lower Isp)\n",
    "    - there should be no problem with lifting payload from Mars, even with 1 engine"
   ]
  },
  {
   "cell_type": "markdown",
   "metadata": {},
   "source": [
    "## Sources\n",
    "\n",
    "- https://en.wikipedia.org/wiki/Thrust-to-weight_ratio\n",
    "- https://en.wikipedia.org/wiki/Falcon_9\n",
    "- https://www.reddit.com/r/spacex/comments/3lsm0q/f9ft_vs_f9v11_fuel_mass_flow_rate_isp/\n",
    "- http://www.spaceflightinsider.com/hangar/falcon/\n",
    "- http://www.b14643.de/Spacerockets_2/United_States_1/Falcon-9/Merlin/index.htm"
   ]
  }
 ],
 "metadata": {
  "kernelspec": {
   "display_name": "Python 3",
   "language": "python",
   "name": "python3"
  },
  "language_info": {
   "codemirror_mode": {
    "name": "ipython",
    "version": 3
   },
   "file_extension": ".py",
   "mimetype": "text/x-python",
   "name": "python",
   "nbconvert_exporter": "python",
   "pygments_lexer": "ipython3",
   "version": "3.6.4"
  }
 },
 "nbformat": 4,
 "nbformat_minor": 2
}
